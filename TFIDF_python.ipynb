{
 "cells": [
  {
   "cell_type": "markdown",
   "metadata": {
    "nbpresent": {
     "id": "42344751-df85-4fa9-af08-b4bf50b41e05"
    }
   },
   "source": [
    "# Using $tfidf$ to identify context-important words  \n",
    "\n",
    "In this notebook we will go into the details of how to run $tfidf$ step by step in code. For the full background on this topic, please checkout the SandyEdge blog post here: <http://xxxx.com>.\n",
    "\n",
    "But before we begin, let me first introduce the mathematical equation, which I proudly spent the weekend learning the LaTex code for:\n",
    "\n",
    "$$ tfidf_{t,d} = tf_{t,d} \\cdot \\log \\frac{N}{df_t} $$\n",
    "<center>**_ where_ **<center>\n",
    "$t$ = _term_\n",
    "<br>\n",
    "$d$ = _document_\n",
    "<br>\n",
    "$ tfidf_{t,d}$ = _term $t$ $tfidf$ score for document_ $d$\n",
    "<br>\n",
    "$ tf_{t,d}$ = _number of occurences of term $t$ in document $d$_\n",
    "<br>\n",
    "$ {df_t}$ = _number of documents containing term $t$_\n",
    "<br>\n",
    "$ N $ = _total number of documents_\n",
    "\n",
    "So without further ado, lets begin "
   ]
  },
  {
   "cell_type": "code",
   "execution_count": 30,
   "metadata": {
    "collapsed": true,
    "nbpresent": {
     "id": "6b931974-2fc8-4fdc-9f32-a93d21ec08ef"
    }
   },
   "outputs": [],
   "source": [
    "import pandas as pd       \n",
    "import os \n",
    "import math \n",
    "import numpy as np\n",
    "import matplotlib.pyplot as plt  \n",
    "\n",
    "from sklearn.feature_extraction.text import CountVectorizer\n",
    "from sklearn.feature_extraction.text import TfidfTransformer\n",
    "os.chdir(\"C:\\\\Users\\\\user\\\\Dropbox\\\\Pet Project\\\\Blog\\\\TFIDF\\\\\")"
   ]
  },
  {
   "cell_type": "markdown",
   "metadata": {},
   "source": [
    "I'm going to use my own dataset which is based on Student essays. You can easily find other datasets and examples, in the wild but I'm using this as it is one of the better datasets for text mining due to its large signal over noise. "
   ]
  },
  {
   "cell_type": "code",
   "execution_count": 31,
   "metadata": {},
   "outputs": [
    {
     "data": {
      "text/plain": [
       "'\"Dear local newspaper, I think effects computers have on people are great learning skills/affects because they give us time to chat with friends/new people, helps us learn about the globe(astronomy) and keeps us out of troble! Thing about! Dont you think so? How would you feel if your teenager is always on the phone with friends! Do you ever time to chat with your friends or buisness partner about things. Well now - there\\'s a new way to chat the computer, theirs plenty of sites on the internet to do so: @ORGANIZATION1, @ORGANIZATION2, @CAPS1, facebook, myspace ect. Just think now while your setting up meeting with your boss on the computer, your teenager is having fun on the phone not rushing to get off cause you want to use it. How did you learn about other countrys/states outside of yours? Well I have by computer/internet, it\\'s a new way to learn about what going on in our time! You might think your child spends a lot of time on the computer, but ask them so question about the economy, sea floor spreading or even about the @DATE1\\'s you\\'ll be surprise at how much he/she knows. Believe it or not the computer is much interesting then in class all day reading out of books. If your child is home on your computer or at a local library, it\\'s better than being out with friends being fresh, or being perpressured to doing something they know isnt right. You might not know where your child is, @CAPS2 forbidde in a hospital bed because of a drive-by. Rather than your child on the computer learning, chatting or just playing games, safe and sound in your home or community place. Now I hope you have reached a point to understand and agree with me, because computers can have great effects on you or child because it gives us time to chat with friends/new people, helps us learn about the globe and believe or not keeps us out of troble. Thank you for listening.\"'"
      ]
     },
     "execution_count": 31,
     "metadata": {},
     "output_type": "execute_result"
    }
   ],
   "source": [
    "#load the data \n",
    "train = pd.read_csv(\"training_set.tsv\", header=0, delimiter=\"\\t\", quoting=3,encoding = 'latin_1')\n",
    "train = train[train.essay_set == 1]\n",
    "\n",
    "#do some checks\n",
    "train.shape\n",
    "train['essay'].iloc[0]"
   ]
  },
  {
   "cell_type": "markdown",
   "metadata": {},
   "source": [
    "------------------------------\n",
    "If you read through the above, the only issue with highschool essay's is that its filled with spelling mistakes. Now lets get the dataset into the proper object, and then we can start cleaning the text so we can apply $tfidf$\n",
    "\n",
    "Unlike the R version, Python has a very neat and quick way to transform the dataset straight into a DTM (document-term-matrix). DTM is basically a matrix of documents on rows and terms on columns. Its the native format that is required to also run SVD / LSI (Latent Semantic Indexing) and topic modelling "
   ]
  },
  {
   "cell_type": "code",
   "execution_count": 32,
   "metadata": {},
   "outputs": [
    {
     "data": {
      "text/plain": [
       "(1783, 15735)"
      ]
     },
     "execution_count": 32,
     "metadata": {},
     "output_type": "execute_result"
    }
   ],
   "source": [
    "# Create DTM of counts \n",
    "cvec = CountVectorizer()\n",
    "cvec_counts = cvec.fit_transform(train['essay'])\n",
    "\n",
    "# Check the dimensions of the DTM \n",
    "cvec_counts.shape  "
   ]
  },
  {
   "cell_type": "markdown",
   "metadata": {},
   "source": [
    "------------------------------\n",
    "1,783 documents by 15,735 word vectors. Sounds about right. Can't say much about the 15k word vectors but 1,783 documents is definetly what we need. Note that the default parameter settings of CountVectorizer() will include 'lowercase application' and 'ignores punctuations'. Now lets find out what the word distribution is like:"
   ]
  },
  {
   "cell_type": "code",
   "execution_count": 33,
   "metadata": {},
   "outputs": [
    {
     "data": {
      "text/html": [
       "<div>\n",
       "<style>\n",
       "    .dataframe thead tr:only-child th {\n",
       "        text-align: right;\n",
       "    }\n",
       "\n",
       "    .dataframe thead th {\n",
       "        text-align: left;\n",
       "    }\n",
       "\n",
       "    .dataframe tbody tr th {\n",
       "        vertical-align: top;\n",
       "    }\n",
       "</style>\n",
       "<table border=\"1\" class=\"dataframe\">\n",
       "  <thead>\n",
       "    <tr style=\"text-align: right;\">\n",
       "      <th></th>\n",
       "      <th>frequency</th>\n",
       "      <th>term</th>\n",
       "    </tr>\n",
       "  </thead>\n",
       "  <tbody>\n",
       "    <tr>\n",
       "      <th>14246</th>\n",
       "      <td>22205</td>\n",
       "      <td>to</td>\n",
       "    </tr>\n",
       "    <tr>\n",
       "      <th>13989</th>\n",
       "      <td>22200</td>\n",
       "      <td>the</td>\n",
       "    </tr>\n",
       "    <tr>\n",
       "      <th>648</th>\n",
       "      <td>18613</td>\n",
       "      <td>and</td>\n",
       "    </tr>\n",
       "    <tr>\n",
       "      <th>15681</th>\n",
       "      <td>17907</td>\n",
       "      <td>you</td>\n",
       "    </tr>\n",
       "    <tr>\n",
       "      <th>2844</th>\n",
       "      <td>10646</td>\n",
       "      <td>computers</td>\n",
       "    </tr>\n",
       "    <tr>\n",
       "      <th>9771</th>\n",
       "      <td>10406</td>\n",
       "      <td>on</td>\n",
       "    </tr>\n",
       "    <tr>\n",
       "      <th>10286</th>\n",
       "      <td>10324</td>\n",
       "      <td>people</td>\n",
       "    </tr>\n",
       "    <tr>\n",
       "      <th>13983</th>\n",
       "      <td>9878</td>\n",
       "      <td>that</td>\n",
       "    </tr>\n",
       "    <tr>\n",
       "      <th>9697</th>\n",
       "      <td>9780</td>\n",
       "      <td>of</td>\n",
       "    </tr>\n",
       "    <tr>\n",
       "      <th>2836</th>\n",
       "      <td>9259</td>\n",
       "      <td>computer</td>\n",
       "    </tr>\n",
       "  </tbody>\n",
       "</table>\n",
       "</div>"
      ],
      "text/plain": [
       "       frequency       term\n",
       "14246      22205         to\n",
       "13989      22200        the\n",
       "648        18613        and\n",
       "15681      17907        you\n",
       "2844       10646  computers\n",
       "9771       10406         on\n",
       "10286      10324     people\n",
       "13983       9878       that\n",
       "9697        9780         of\n",
       "2836        9259   computer"
      ]
     },
     "execution_count": 33,
     "metadata": {},
     "output_type": "execute_result"
    }
   ],
   "source": [
    " # sum up all the counts for the word vector\n",
    "freq = np.asarray(cvec_counts.sum(axis=0)).ravel().tolist() \n",
    "counts_df = pd.DataFrame({'term': cvec.get_feature_names(), 'frequency': freq})\n",
    "\n",
    "# lets print the top 20 most frequent term \n",
    "counts_df.sort_values(by='frequency', ascending=False).head(10)"
   ]
  },
  {
   "cell_type": "markdown",
   "metadata": {},
   "source": [
    "------------------------------\n",
    "Based on frequency counts, lots of stopwords and generic terms like \"computers\" are appearing. This is expected since we didn't do any stop words removal, or $tfidf$ for that matter. So in this part of the process, is essentially the Term Frequency (TF) component in $tfidf$. So now, lets apply the $tfidf$ full transfomation:"
   ]
  },
  {
   "cell_type": "code",
   "execution_count": 40,
   "metadata": {},
   "outputs": [
    {
     "name": "stdout",
     "output_type": "stream",
     "text": [
      "  (0, 3630)\t0.0205795178957\n",
      "  (0, 8375)\t0.0692567747786\n",
      "  (0, 9414)\t0.0296724820614\n",
      "  (0, 14086)\t0.0888150263924\n",
      "  (0, 4577)\t0.0855372612395\n",
      "  (0, 2844)\t0.0313049145955\n",
      "  (0, 6692)\t0.0637103482304\n",
      "  (0, 9771)\t0.151937023131\n",
      "  (0, 10286)\t0.0466419753712\n",
      "  (0, 833)\t0.0154516111753\n",
      "  (0, 6442)\t0.0650269796243\n",
      "  (0, 8137)\t0.0855372612395\n",
      "  (0, 12731)\t0.0522323088082\n",
      "  (0, 378)\t0.0665549003141\n",
      "  (0, 1304)\t0.0796254467089\n",
      "  (0, 14058)\t0.0334191217792\n",
      "  (0, 6259)\t0.0374067800391\n",
      "  (0, 14844)\t0.195749236724\n",
      "  (0, 14207)\t0.0993557830735\n",
      "  (0, 14246)\t0.147571248637\n",
      "  (0, 2313)\t0.145155526491\n",
      "  (0, 15454)\t0.113009335539\n",
      "  (0, 6028)\t0.104703215001\n",
      "  (0, 9397)\t0.132086034922\n",
      "  (0, 6798)\t0.080617181976\n",
      "  :\t:\n",
      "  (1782, 10225)\t0.0754486130427\n",
      "  (1782, 2121)\t0.0849473257093\n",
      "  (1782, 13986)\t0.130740365821\n",
      "  (1782, 6318)\t0.116169766347\n",
      "  (1782, 10744)\t0.083226699468\n",
      "  (1782, 10361)\t0.0827601959427\n",
      "  (1782, 8592)\t0.0659777931142\n",
      "  (1782, 8106)\t0.076445214015\n",
      "  (1782, 8604)\t0.112969824335\n",
      "  (1782, 13391)\t0.102967572392\n",
      "  (1782, 9751)\t0.102967572392\n",
      "  (1782, 549)\t0.138975346059\n",
      "  (1782, 8090)\t0.122925058063\n",
      "  (1782, 4633)\t0.135775404048\n",
      "  (1782, 839)\t0.0980926469344\n",
      "  (1782, 1627)\t0.142760074157\n",
      "  (1782, 664)\t0.128371355368\n",
      "  (1782, 5052)\t0.153364064848\n",
      "  (1782, 15685)\t0.138975346059\n",
      "  (1782, 3596)\t0.153364064848\n",
      "  (1782, 7090)\t0.161780925772\n",
      "  (1782, 13656)\t0.161780925772\n",
      "  (1782, 4483)\t0.161780925772\n",
      "  (1782, 1733)\t0.161780925772\n",
      "  (1782, 10385)\t0.161780925772\n"
     ]
    }
   ],
   "source": [
    "transformer = TfidfTransformer() \n",
    "transformed_weights = transformer.fit_transform(cvec_counts)  #this takes the previous Count Vector object above \n",
    "\n",
    "# Check the dimensions of the DTM \n",
    "transformed_weights.shape  \n",
    "\n",
    "#lets check out how the results look like\n",
    "print(transformed_weights) "
   ]
  },
  {
   "cell_type": "markdown",
   "metadata": {},
   "source": [
    "------------------------------\n",
    "Noticed the numbers are now very different to the original cvec_counts above? Well this is because we've reweighted the DTM by $tfidf$ now. Or more specifically the words in each row is $tfidf$ weighted. For more detailed explanation of the formula and how it works, please read through the blog post on SandyEdge.\n",
    "\n",
    "So lets find out which word has the highest $tfidf$ score. Because $tfidf$ for each word is different for each document (row), so what we'll do is take the average $tfidf$ score for each word across all 1,783 documents:"
   ]
  },
  {
   "cell_type": "code",
   "execution_count": 41,
   "metadata": {},
   "outputs": [
    {
     "name": "stderr",
     "output_type": "stream",
     "text": [
      "C:\\Users\\User\\Anaconda3\\lib\\site-packages\\scipy\\sparse\\compressed.py:214: SparseEfficiencyWarning: Comparing a sparse matrix with 0 using == is inefficient, try using != instead.\n",
      "  \", try using != instead.\", SparseEfficiencyWarning)\n",
      "C:\\Users\\User\\Anaconda3\\lib\\site-packages\\scipy\\sparse\\compressed.py:774: SparseEfficiencyWarning: Changing the sparsity structure of a csr_matrix is expensive. lil_matrix is more efficient.\n",
      "  SparseEfficiencyWarning)\n"
     ]
    },
    {
     "data": {
      "text/plain": [
       "count    15735.000000\n",
       "mean         0.099362\n",
       "std          0.037964\n",
       "min          0.020396\n",
       "25%          0.079014\n",
       "50%          0.091450\n",
       "75%          0.108672\n",
       "max          0.688265\n",
       "Name: weight, dtype: float64"
      ]
     },
     "execution_count": 41,
     "metadata": {},
     "output_type": "execute_result"
    }
   ],
   "source": [
    "# To avoid taking the mean including zero, we'll pad it with Nulls. Not the most efficient but works for now \n",
    "transformed_weights[transformed_weights==0] = np.nan\n",
    "\n",
    "# Now transform the objects to the object to the proper format and take the average $tfidf$ score. \n",
    "transformed_weights = pd.DataFrame(transformed_weights.todense())\n",
    "weights = np.asarray(transformed_weights.mean(axis=0)).ravel().tolist()\n",
    "\n",
    "# Make a dataframe and check the statistics of the $tfidf$ score.\n",
    "weights_df = pd.DataFrame({'term': cvec.get_feature_names(), 'weight': weights})\n",
    "weights_df['weight'].describe()"
   ]
  },
  {
   "cell_type": "markdown",
   "metadata": {},
   "source": [
    "------------------------------\n",
    "In practice, we usually remove any words with $tfidf$ score less than 0.1. However, depending on your data, one may have to adjust this cut-off slightly. Generally if you have really noisy dataset, you want to reduce this down further \n",
    "\n",
    "From the stat above, I can sufficiently conclude that we have a fairly noisy dataset (median at 50% $tfidf$ = 0.09). But not the end of the world. Lets have a look at what are the top 10 words with lowest $tfidf$ scores"
   ]
  },
  {
   "cell_type": "code",
   "execution_count": 42,
   "metadata": {},
   "outputs": [
    {
     "data": {
      "text/html": [
       "<div>\n",
       "<style>\n",
       "    .dataframe thead tr:only-child th {\n",
       "        text-align: right;\n",
       "    }\n",
       "\n",
       "    .dataframe thead th {\n",
       "        text-align: left;\n",
       "    }\n",
       "\n",
       "    .dataframe tbody tr th {\n",
       "        vertical-align: top;\n",
       "    }\n",
       "</style>\n",
       "<table border=\"1\" class=\"dataframe\">\n",
       "  <thead>\n",
       "    <tr style=\"text-align: right;\">\n",
       "      <th></th>\n",
       "      <th>term</th>\n",
       "      <th>weight</th>\n",
       "    </tr>\n",
       "  </thead>\n",
       "  <tbody>\n",
       "    <tr>\n",
       "      <th>3630</th>\n",
       "      <td>dear</td>\n",
       "      <td>0.020396</td>\n",
       "    </tr>\n",
       "    <tr>\n",
       "      <th>9550</th>\n",
       "      <td>num1</td>\n",
       "      <td>0.028875</td>\n",
       "    </tr>\n",
       "    <tr>\n",
       "      <th>10302</th>\n",
       "      <td>percent1</td>\n",
       "      <td>0.030898</td>\n",
       "    </tr>\n",
       "    <tr>\n",
       "      <th>2065</th>\n",
       "      <td>caps1</td>\n",
       "      <td>0.031495</td>\n",
       "    </tr>\n",
       "    <tr>\n",
       "      <th>9414</th>\n",
       "      <td>newspaper</td>\n",
       "      <td>0.032191</td>\n",
       "    </tr>\n",
       "    <tr>\n",
       "      <th>8382</th>\n",
       "      <td>location1</td>\n",
       "      <td>0.033617</td>\n",
       "    </tr>\n",
       "    <tr>\n",
       "      <th>5754</th>\n",
       "      <td>first</td>\n",
       "      <td>0.036204</td>\n",
       "    </tr>\n",
       "    <tr>\n",
       "      <th>2915</th>\n",
       "      <td>conclusion</td>\n",
       "      <td>0.036350</td>\n",
       "    </tr>\n",
       "    <tr>\n",
       "      <th>9555</th>\n",
       "      <td>num2</td>\n",
       "      <td>0.036507</td>\n",
       "    </tr>\n",
       "    <tr>\n",
       "      <th>9774</th>\n",
       "      <td>one</td>\n",
       "      <td>0.036938</td>\n",
       "    </tr>\n",
       "  </tbody>\n",
       "</table>\n",
       "</div>"
      ],
      "text/plain": [
       "             term    weight\n",
       "3630         dear  0.020396\n",
       "9550         num1  0.028875\n",
       "10302    percent1  0.030898\n",
       "2065        caps1  0.031495\n",
       "9414    newspaper  0.032191\n",
       "8382    location1  0.033617\n",
       "5754        first  0.036204\n",
       "2915   conclusion  0.036350\n",
       "9555         num2  0.036507\n",
       "9774          one  0.036938"
      ]
     },
     "execution_count": 42,
     "metadata": {},
     "output_type": "execute_result"
    }
   ],
   "source": [
    "weights_df.sort_values(by='weight', ascending=True).head(10)\n"
   ]
  },
  {
   "cell_type": "markdown",
   "metadata": {},
   "source": [
    "------------------------------\n",
    "Notice how it has captured not only stopwords, but also other non-useful words like \"dear\" and \"newspaper\", which is the default opening sentence for all the essays. Now lets have a look at the top 10 words "
   ]
  },
  {
   "cell_type": "code",
   "execution_count": 43,
   "metadata": {},
   "outputs": [
    {
     "data": {
      "text/html": [
       "<div>\n",
       "<style>\n",
       "    .dataframe thead tr:only-child th {\n",
       "        text-align: right;\n",
       "    }\n",
       "\n",
       "    .dataframe thead th {\n",
       "        text-align: left;\n",
       "    }\n",
       "\n",
       "    .dataframe tbody tr th {\n",
       "        vertical-align: top;\n",
       "    }\n",
       "</style>\n",
       "<table border=\"1\" class=\"dataframe\">\n",
       "  <thead>\n",
       "    <tr style=\"text-align: right;\">\n",
       "      <th></th>\n",
       "      <th>term</th>\n",
       "      <th>weight</th>\n",
       "    </tr>\n",
       "  </thead>\n",
       "  <tbody>\n",
       "    <tr>\n",
       "      <th>4021</th>\n",
       "      <td>difrent</td>\n",
       "      <td>0.688265</td>\n",
       "    </tr>\n",
       "    <tr>\n",
       "      <th>2772</th>\n",
       "      <td>compiuters</td>\n",
       "      <td>0.662883</td>\n",
       "    </tr>\n",
       "    <tr>\n",
       "      <th>2831</th>\n",
       "      <td>computar</td>\n",
       "      <td>0.623923</td>\n",
       "    </tr>\n",
       "    <tr>\n",
       "      <th>7147</th>\n",
       "      <td>illeagle</td>\n",
       "      <td>0.584656</td>\n",
       "    </tr>\n",
       "    <tr>\n",
       "      <th>4818</th>\n",
       "      <td>engry</td>\n",
       "      <td>0.573289</td>\n",
       "    </tr>\n",
       "    <tr>\n",
       "      <th>10617</th>\n",
       "      <td>pol</td>\n",
       "      <td>0.571404</td>\n",
       "    </tr>\n",
       "    <tr>\n",
       "      <th>9310</th>\n",
       "      <td>nede</td>\n",
       "      <td>0.567567</td>\n",
       "    </tr>\n",
       "    <tr>\n",
       "      <th>13809</th>\n",
       "      <td>techknowlogy</td>\n",
       "      <td>0.563077</td>\n",
       "    </tr>\n",
       "    <tr>\n",
       "      <th>13191</th>\n",
       "      <td>srech</td>\n",
       "      <td>0.551029</td>\n",
       "    </tr>\n",
       "    <tr>\n",
       "      <th>2090</th>\n",
       "      <td>caps33</td>\n",
       "      <td>0.531776</td>\n",
       "    </tr>\n",
       "  </tbody>\n",
       "</table>\n",
       "</div>"
      ],
      "text/plain": [
       "               term    weight\n",
       "4021        difrent  0.688265\n",
       "2772     compiuters  0.662883\n",
       "2831       computar  0.623923\n",
       "7147       illeagle  0.584656\n",
       "4818          engry  0.573289\n",
       "10617           pol  0.571404\n",
       "9310           nede  0.567567\n",
       "13809  techknowlogy  0.563077\n",
       "13191         srech  0.551029\n",
       "2090         caps33  0.531776"
      ]
     },
     "execution_count": 43,
     "metadata": {},
     "output_type": "execute_result"
    }
   ],
   "source": [
    "weights_df.sort_values(by='weight', ascending=False).head(10)"
   ]
  },
  {
   "cell_type": "markdown",
   "metadata": {},
   "source": [
    "------------------------------\n",
    "Unlike the R version, there are less spares words appearing with high $tfidf$ scores. In fact, the highly sparse terms have low $tfidf$ score which is what we want. Lets check out some of these spelling mistakes to understand why its getting such a high $tfidf$ score:"
   ]
  },
  {
   "cell_type": "code",
   "execution_count": 38,
   "metadata": {},
   "outputs": [
    {
     "data": {
      "text/html": [
       "<div>\n",
       "<style>\n",
       "    .dataframe thead tr:only-child th {\n",
       "        text-align: right;\n",
       "    }\n",
       "\n",
       "    .dataframe thead th {\n",
       "        text-align: left;\n",
       "    }\n",
       "\n",
       "    .dataframe tbody tr th {\n",
       "        vertical-align: top;\n",
       "    }\n",
       "</style>\n",
       "<table border=\"1\" class=\"dataframe\">\n",
       "  <thead>\n",
       "    <tr style=\"text-align: right;\">\n",
       "      <th></th>\n",
       "      <th>term</th>\n",
       "      <th>weight</th>\n",
       "      <th>frequency</th>\n",
       "    </tr>\n",
       "  </thead>\n",
       "  <tbody>\n",
       "    <tr>\n",
       "      <th>4021</th>\n",
       "      <td>difrent</td>\n",
       "      <td>0.688265</td>\n",
       "      <td>4</td>\n",
       "    </tr>\n",
       "    <tr>\n",
       "      <th>2772</th>\n",
       "      <td>compiuters</td>\n",
       "      <td>0.662883</td>\n",
       "      <td>9</td>\n",
       "    </tr>\n",
       "    <tr>\n",
       "      <th>2831</th>\n",
       "      <td>computar</td>\n",
       "      <td>0.623923</td>\n",
       "      <td>10</td>\n",
       "    </tr>\n",
       "    <tr>\n",
       "      <th>7147</th>\n",
       "      <td>illeagle</td>\n",
       "      <td>0.584656</td>\n",
       "      <td>2</td>\n",
       "    </tr>\n",
       "    <tr>\n",
       "      <th>4818</th>\n",
       "      <td>engry</td>\n",
       "      <td>0.573289</td>\n",
       "      <td>5</td>\n",
       "    </tr>\n",
       "    <tr>\n",
       "      <th>10617</th>\n",
       "      <td>pol</td>\n",
       "      <td>0.571404</td>\n",
       "      <td>1</td>\n",
       "    </tr>\n",
       "    <tr>\n",
       "      <th>9310</th>\n",
       "      <td>nede</td>\n",
       "      <td>0.567567</td>\n",
       "      <td>2</td>\n",
       "    </tr>\n",
       "    <tr>\n",
       "      <th>13809</th>\n",
       "      <td>techknowlogy</td>\n",
       "      <td>0.563077</td>\n",
       "      <td>8</td>\n",
       "    </tr>\n",
       "    <tr>\n",
       "      <th>13191</th>\n",
       "      <td>srech</td>\n",
       "      <td>0.551029</td>\n",
       "      <td>3</td>\n",
       "    </tr>\n",
       "    <tr>\n",
       "      <th>2090</th>\n",
       "      <td>caps33</td>\n",
       "      <td>0.531776</td>\n",
       "      <td>10</td>\n",
       "    </tr>\n",
       "  </tbody>\n",
       "</table>\n",
       "</div>"
      ],
      "text/plain": [
       "               term    weight  frequency\n",
       "4021        difrent  0.688265          4\n",
       "2772     compiuters  0.662883          9\n",
       "2831       computar  0.623923         10\n",
       "7147       illeagle  0.584656          2\n",
       "4818          engry  0.573289          5\n",
       "10617           pol  0.571404          1\n",
       "9310           nede  0.567567          2\n",
       "13809  techknowlogy  0.563077          8\n",
       "13191         srech  0.551029          3\n",
       "2090         caps33  0.531776         10"
      ]
     },
     "execution_count": 38,
     "metadata": {},
     "output_type": "execute_result"
    }
   ],
   "source": [
    "counts_df.sort_values(by='term', ascending=1)\n",
    "weights_df.sort_values(by='term', ascending=1)\n",
    "combined = pd.concat([weights_df,counts_df['frequency']], axis=1)\n",
    "combined.sort_values(by='weight', ascending=False).head(10)"
   ]
  },
  {
   "cell_type": "markdown",
   "metadata": {},
   "source": [
    "------------------------------\n",
    "Turns out these spelling mistake is pretty common amongst students and its confusing the model slightly. We could remove sparse terms, or use bigger dataset or apply spelling correction, all of which may help solve this issue\n",
    "\n",
    "Let's plot the results "
   ]
  },
  {
   "cell_type": "code",
   "execution_count": 26,
   "metadata": {},
   "outputs": [
    {
     "data": {
      "image/png": "[encoded data removed]",
      "text/plain": [
       "<matplotlib.figure.Figure at 0x1f4009237b8>"
      ]
     },
     "metadata": {},
     "output_type": "display_data"
    }
   ],
   "source": [
    "# setup the plotting parameters\n",
    "plt.figure(figsize=(12, 9))  \n",
    "ax = plt.subplot(111)  \n",
    "ax.spines[\"top\"].set_visible(False)  \n",
    "ax.spines[\"right\"].set_visible(False)  \n",
    "\n",
    "ax.get_xaxis().tick_bottom()  \n",
    "ax.get_yaxis().tick_left()  \n",
    "plt.xticks(fontsize=14)  \n",
    "plt.yticks(range(5000, 30001, 5000), fontsize=14)  \n",
    "\n",
    "# Plot the histogram of the counts (should be a power-law dist?)\n",
    "plt.hist(combined['weight'],  \n",
    "         color=\"#3F5D7D\", bins=100)  \n",
    "plt.show()"
   ]
  },
  {
   "cell_type": "markdown",
   "metadata": {},
   "source": [
    "------------------------------\n",
    "Plotting the $tfidf$ weight shows a right skew, or in other words a large number of words have low $tfidf$ scores. This makes sense as we intentionally turned off the stopwords and sparewords removal function"
   ]
  },
  {
   "cell_type": "code",
   "execution_count": 28,
   "metadata": {},
   "outputs": [
    {
     "data": {
      "image/png": "[encoded data removed]",
      "text/plain": [
       "<matplotlib.figure.Figure at 0x1f401122e80>"
      ]
     },
     "metadata": {},
     "output_type": "display_data"
    }
   ],
   "source": [
    "plt.figure(figsize=(12, 9))  \n",
    "plt.hist(combined['frequency'],  \n",
    "         color=\"#3F5D7D\", bins=100)  \n",
    "plt.show()"
   ]
  },
  {
   "cell_type": "markdown",
   "metadata": {},
   "source": [
    "------------------------------\n",
    "Plotting just the frequencies shows a power law distribution, which again makes sense as we intentionally turned off the stopwords and sparewords removal function. "
   ]
  }
 ],
 "metadata": {
  "anaconda-cloud": {},
  "kernelspec": {
   "display_name": "Python [conda root]",
   "language": "python",
   "name": "conda-root-py"
  },
  "language_info": {
   "codemirror_mode": {
    "name": "ipython",
    "version": 3
   },
   "file_extension": ".py",
   "mimetype": "text/x-python",
   "name": "python",
   "nbconvert_exporter": "python",
   "pygments_lexer": "ipython3",
   "version": "3.5.3"
  }
 },
 "nbformat": 4,
 "nbformat_minor": 2
}
